{
 "cells": [
  {
   "cell_type": "markdown",
   "id": "e6f03237-6f7e-4051-be98-e30604c7639b",
   "metadata": {},
   "source": [
    "# Basis Change"
   ]
  },
  {
   "cell_type": "code",
   "execution_count": 3,
   "id": "2934e1d6-b77a-420b-bb6f-7b48a8e73a4f",
   "metadata": {},
   "outputs": [],
   "source": [
    "%load_ext lab_black\n",
    "%load_ext autoreload\n",
    "%autoreload 2"
   ]
  },
  {
   "cell_type": "code",
   "execution_count": 4,
   "id": "c8e2f401-044f-49ea-abfe-3d7677a55474",
   "metadata": {},
   "outputs": [],
   "source": [
    "import numpy as np\n",
    "import matplotlib.pyplot as plt"
   ]
  },
  {
   "cell_type": "markdown",
   "id": "562d939f-6a3c-4f78-b888-e76f5be5ef19",
   "metadata": {},
   "source": [
    "When referring to column vectors in column vector notation e.g.\n",
    "$$ X = \\begin{pmatrix} x_{1}\\\\\n",
    "x_{2} \\end{pmatrix} $$\n",
    "\n",
    "There is an implicit assumption that we know the unit vectors $\\hat{x_{1}}$ and $\\hat{x_{2}}$. In fact these are vital bits of information if we are hoping to understand the vector $X$.\n",
    "\n",
    "Let's take an example to see how changing the basis vectors can affect the vector we wish to describe.\n",
    "\n",
    "Suppose we have vector $$ X = \\begin{pmatrix} -1\\\\\n",
    "3 \\end{pmatrix} $$\n",
    "\n",
    "Usually, this would be assumed to be relative to the standard bases i.e.\n",
    "$$\\hat{x_{1}} = \\begin{pmatrix} 1\\\\\n",
    "0 \\end{pmatrix} $$ and\n",
    "$$\\hat{x_{2}} = \\begin{pmatrix} 0\\\\\n",
    "1 \\end{pmatrix} $$ \n",
    "\n",
    "Let's call this vector $X_{s.b}$ (s.b for standard basis)\n",
    "\n",
    "However, no suppose we took some other basis\n",
    "$$\\hat{x_{1}} = \\begin{pmatrix} 1\\\\\n",
    "1 \\end{pmatrix} , \\space  \\space \\space \\space \\space \\space\n",
    "\\hat{x_{2}} = \\begin{pmatrix} 1\\\\\n",
    "-1 \\end{pmatrix} $$ \n",
    "\n",
    "We will call this vector $X_{n.b}$ (n.b for new basis)\n",
    "\n",
    "Remembering our original vector $ X = \\begin{pmatrix} -1\\\\3 \\end{pmatrix} $, let's go ahead and plot $X_{n.b}$ and $X_{s.b}$"
   ]
  },
  {
   "cell_type": "code",
   "execution_count": 5,
   "id": "ec0ada4b-6f16-44e9-8738-342084d795a0",
   "metadata": {},
   "outputs": [],
   "source": [
    "X = np.array([-1, 3])\n",
    "\n",
    "# First we'll calculate the basis vectors for standard basis (sb) and new basis (nb)\n",
    "\n",
    "x1_hat_sb, x2_hat_sb = np.array([1, 0]), np.array([0, 1])\n",
    "x1_hat_nb, x2_hat_nb = np.array([1, 1]), np.array([0, 1])"
   ]
  },
  {
   "cell_type": "code",
   "execution_count": 6,
   "id": "cf24ee6b-1afb-4f3c-a45e-a3d1b03bc2fd",
   "metadata": {},
   "outputs": [],
   "source": [
    "# Now we can stack these basis vectors into a matrix such that the columns of our matrix are the basis vectors.\n",
    "# We'll call these matrices SB and NB\n",
    "\n",
    "SB = np.stack([x1_hat_sb, x2_hat_sb])\n",
    "NB = np.stack([x1_hat_nb, x2_hat_nb])"
   ]
  },
  {
   "cell_type": "code",
   "execution_count": 7,
   "id": "f0b39df3-7eee-40e0-9a38-d4036e02f244",
   "metadata": {},
   "outputs": [],
   "source": [
    "# Now we are able to multiply our original vector X by our basis matrices\n",
    "\n",
    "X_sb = SB @ X\n",
    "X_nb = NB @ X"
   ]
  },
  {
   "cell_type": "code",
   "execution_count": 8,
   "id": "8299dc4c-afef-467a-821a-51b54fb8f700",
   "metadata": {},
   "outputs": [
    {
     "data": {
      "image/png": "[encoded data removed]",
      "text/plain": [
       "<Figure size 640x480 with 1 Axes>"
      ]
     },
     "metadata": {},
     "output_type": "display_data"
    }
   ],
   "source": [
    "fig, ax = plt.subplots()\n",
    "ax.quiver(0, 0, *X_sb, angles=\"xy\", scale_units=\"xy\", scale=1, color=\"r\", label=\"X_sb\")\n",
    "ax.quiver(0, 0, *X_nb, angles=\"xy\", scale_units=\"xy\", scale=1, color=\"b\", label=\"X_nb\")\n",
    "ax.set_xlim(-4, 4)\n",
    "ax.set_ylim(-4, 4)\n",
    "ax.legend()\n",
    "plt.show()"
   ]
  },
  {
   "cell_type": "markdown",
   "id": "50b565a2-517d-4661-aa7d-574a6a467c9b",
   "metadata": {},
   "source": [
    "And as we can see, changing the basis vectors which describe the contextualise the vector X fundamentally changes the vector which we are talking about."
   ]
  },
  {
   "cell_type": "markdown",
   "id": "eec4a6db-ff73-47af-b423-7eeefcc78541",
   "metadata": {},
   "source": []
  },
  {
   "cell_type": "code",
   "execution_count": null,
   "id": "88fbf271-14f4-4baf-8b87-e5bec92c0c95",
   "metadata": {},
   "outputs": [],
   "source": []
  }
 ],
 "metadata": {
  "kernelspec": {
   "display_name": "Python 3 (ipykernel)",
   "language": "python",
   "name": "python3"
  },
  "language_info": {
   "codemirror_mode": {
    "name": "ipython",
    "version": 3
   },
   "file_extension": ".py",
   "mimetype": "text/x-python",
   "name": "python",
   "nbconvert_exporter": "python",
   "pygments_lexer": "ipython3",
   "version": "3.9.5"
  }
 },
 "nbformat": 4,
 "nbformat_minor": 5
}
